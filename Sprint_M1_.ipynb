{
  "nbformat": 4,
  "nbformat_minor": 0,
  "metadata": {
    "colab": {
      "provenance": [],
      "authorship_tag": "ABX9TyN2IXqHs24t+LPPyjGIIxEP",
      "include_colab_link": true
    },
    "kernelspec": {
      "name": "python3",
      "display_name": "Python 3"
    },
    "language_info": {
      "name": "python"
    }
  },
  "cells": [
    {
      "cell_type": "markdown",
      "metadata": {
        "id": "view-in-github",
        "colab_type": "text"
      },
      "source": [
        "<a href=\"https://colab.research.google.com/github/itoledo13/Curso-Ciencia-de-datos/blob/main/Sprint_M1_.ipynb\" target=\"_parent\"><img src=\"https://colab.research.google.com/assets/colab-badge.svg\" alt=\"Open In Colab\"/></a>"
      ]
    },
    {
      "cell_type": "markdown",
      "source": [
        "# MÓDULO: OBTENCIÓN Y PREPARACIÓN DE DATOS\n",
        "\n",
        "- Nombre alumno: Ivonne Toledo Ojeda"
      ],
      "metadata": {
        "id": "akIqNRVPo3BX"
      }
    },
    {
      "cell_type": "markdown",
      "source": [
        "##Actividades"
      ],
      "metadata": {
        "id": "TfYUcImTp7yq"
      }
    },
    {
      "cell_type": "markdown",
      "source": [
        "###Requerimiento 1:\n",
        "Diseñe e implemente una clase Producto con los siguientes atributos: id, nombre, descripción, cantidad y precio. La clase debe incluir métodos para obtener y modificar la información de los productos."
      ],
      "metadata": {
        "id": "E_K7JNfEqGOy"
      }
    },
    {
      "cell_type": "code",
      "source": [
        "class Producto:\n",
        "\n",
        "  def __init__(self, id, nombre, descripcion, cantidad, precio):\n",
        "    self.id =id\n",
        "    self.nombre=nombre\n",
        "    self.descripcion=descripcion\n",
        "    self.cantidad=cantidad\n",
        "    self.precio=precio\n",
        "\n",
        "  def obtener_id(self):\n",
        "    return self.id\n",
        "\n",
        "  def modificar_id(self, id):\n",
        "    self.id = id\n",
        "\n",
        "  def obtener_nombre(self):\n",
        "    return self.nombre\n",
        "\n",
        "  def modificar_nombre(self, nombre):\n",
        "    self.nombre = nombre\n",
        "\n",
        "  def obtener_descripcion(self):\n",
        "    return self.descripcion\n",
        "\n",
        "  def modificar_descripcion(self, descripcion):\n",
        "    self.descripcion = descripcion\n",
        "\n",
        "  def obtener_cantidad(self):\n",
        "    return self.cantidad\n",
        "\n",
        "  def modificar_cantidad(self, cantidad):\n",
        "    self.cantidad = cantidad\n",
        "\n",
        "  def obtener_precio(self):\n",
        "    return self.precio\n",
        "\n",
        "  def modificar_precio(self, precio):\n",
        "    self.precio = precio\n",
        "\n",
        "  def __str__(self):\n",
        "    return f\"{self.id} - {self.nombre} - {self.descripcion} - {self.cantidad} - {self.precio}\"\n"
      ],
      "metadata": {
        "id": "-18g5_8SsdwM"
      },
      "execution_count": 1,
      "outputs": []
    },
    {
      "cell_type": "markdown",
      "source": [
        "###Requerimiento 2:\n",
        "Diseñe e implemente una clase Inventario que utilice una estructura de datos (por ejemplo, un diccionario) para almacenar objetos de la clase Producto. La clase Inventario debe incluir métodos para realizar las siguientes operaciones:\n",
        "• Agregar un producto al inventario\n",
        "• Eliminar un producto del inventario\n",
        "• Actualizar la información de un producto en el inventario\n",
        "• Buscar un producto en el inventario por su id\n",
        "• Listar todos los productos en el inventario, incluyendo información como la cantidad total de productos y el valor total del inventario"
      ],
      "metadata": {
        "id": "bc6DgJMkqnRC"
      }
    },
    {
      "cell_type": "code",
      "source": [
        "class Inventario:\n",
        "\n",
        "  def __init__(self):\n",
        "    self._productos = {}\n",
        "\n",
        "  def agregar_producto(self, producto):\n",
        "    self._productos[producto.id] = producto\n",
        "\n",
        "  def eliminar_producto(self, id_producto):\n",
        "    del self._productos[id_producto]\n",
        "\n",
        "  def actualizar_producto(self, producto):\n",
        "    if producto.id not in self._productos:\n",
        "      raise ValueError(\"El producto no existe en el inventario\")\n",
        "    self._productos[producto.id] = producto\n",
        "\n",
        "  def buscar_producto(self, id_producto):\n",
        "    if id_producto not in self._productos:\n",
        "      return None\n",
        "    return self._productos[id_producto]\n",
        "\n",
        "  def listar_productos(self):\n",
        "    for producto in self._productos.values():\n",
        "      print(producto)\n",
        "    print(f\"Cantidad total de productos: {len(self._productos)}\")\n",
        "    print(f\"Valor total del inventario: {self.calcular_valor_total()}\")\n",
        "\n",
        "  def calcular_valor_total(self):\n",
        "    valor_total = 0\n",
        "    for producto in self._productos.values():\n",
        "      valor_total += producto.cantidad * producto.precio\n",
        "    return valor_total"
      ],
      "metadata": {
        "id": "oLcqbzkw8MtO"
      },
      "execution_count": 2,
      "outputs": []
    },
    {
      "cell_type": "markdown",
      "source": [
        "###Requerimiento 3:\n",
        "Implemente un menú de usuario que permita a los usuarios interactuar con el sistema de gestión de inventario. El menú de incluir opciones para realizar las diferentes operaciones disponibles en la clase Inventario. Utilice un bucle while y estructuras de control de flujo if-elif-else para manejar las diferentes opciones del menú. (opcional)"
      ],
      "metadata": {
        "id": "PVIlXyo4qpv6"
      }
    },
    {
      "cell_type": "code",
      "source": [
        "def menu_usuario():\n",
        "  inventario = Inventario()\n",
        "\n",
        "  while True:\n",
        "    print(\"**Opciones del menú:**\")\n",
        "    print(\"1. Agregar producto\")\n",
        "    print(\"2. Eliminar producto\")\n",
        "    print(\"3. Actualizar producto\")\n",
        "    print(\"4. Buscar producto\")\n",
        "    print(\"5. Listar productos\")\n",
        "    print(\"6. Salir\")\n",
        "\n",
        "    opcion = int(input(\"Ingrese el número de la opción deseada: \"))\n",
        "\n",
        "    if opcion == 1:\n",
        "      id_producto = int(input(\"Ingrese el ID del producto: \"))\n",
        "      nombre = input(\"Ingrese el nombre del producto: \")\n",
        "      descripcion = input(\"Ingrese la descripción del producto: \")\n",
        "      cantidad = int(input(\"Ingrese la cantidad del producto: \"))\n",
        "      precio = float(input(\"Ingrese el precio del producto: \"))\n",
        "\n",
        "      producto = Producto(id_producto, nombre, descripcion, cantidad, precio)\n",
        "      inventario.agregar_producto(producto)\n",
        "\n",
        "    elif opcion == 2:\n",
        "      id_producto = int(input(\"Ingrese el ID del producto a eliminar: \"))\n",
        "      inventario.eliminar_producto(id_producto)\n",
        "\n",
        "    elif opcion == 3:\n",
        "      id_producto = int(input(\"Ingrese el ID del producto a actualizar: \"))\n",
        "      nombre = input(\"Ingrese el nuevo nombre del producto: \")\n",
        "      descripcion = input(\"Ingrese la nueva descripción del producto: \")\n",
        "      cantidad = int(input(\"Ingrese la nueva cantidad del producto: \"))\n",
        "      precio = float(input(\"Ingrese el nuevo precio del producto: \"))\n",
        "\n",
        "      producto = Producto(id_producto, nombre, descripcion, cantidad, precio)\n",
        "      inventario.actualizar_producto(producto)\n",
        "\n",
        "    elif opcion == 4:\n",
        "      id_producto = int(input(\"Ingrese el ID del producto a buscar: \"))\n",
        "      producto = inventario.buscar_producto(id_producto)\n",
        "\n",
        "      if producto is not None:\n",
        "        print(f\"Producto encontrado: {producto}\")\n",
        "      else:\n",
        "        print(\"Producto no encontrado\")\n",
        "\n",
        "    elif opcion == 5:\n",
        "      inventario.listar_productos()\n",
        "\n",
        "    elif opcion == 6:\n",
        "      print(\"Saliendo del sistema...\")\n",
        "      break\n",
        "\n",
        "    else:\n",
        "      print(\"Opción no válida. Intente nuevamente.\")\n",
        "\n",
        "menu_usuario()"
      ],
      "metadata": {
        "id": "h2_g3Kfef363",
        "colab": {
          "base_uri": "https://localhost:8080/"
        },
        "outputId": "d46d7977-1852-45cd-9a37-e7195e3281e9"
      },
      "execution_count": 3,
      "outputs": [
        {
          "output_type": "stream",
          "name": "stdout",
          "text": [
            "**Opciones del menú:**\n",
            "1. Agregar producto\n",
            "2. Eliminar producto\n",
            "3. Actualizar producto\n",
            "4. Buscar producto\n",
            "5. Listar productos\n",
            "6. Salir\n",
            "Ingrese el número de la opción deseada: 1\n",
            "Ingrese el ID del producto: 3\n",
            "Ingrese el nombre del producto: Detergente\n",
            "Ingrese la descripción del producto: Ro\n",
            "Ingrese la cantidad del producto: 200\n",
            "Ingrese el precio del producto: 4500\n",
            "**Opciones del menú:**\n",
            "1. Agregar producto\n",
            "2. Eliminar producto\n",
            "3. Actualizar producto\n",
            "4. Buscar producto\n",
            "5. Listar productos\n",
            "6. Salir\n",
            "Ingrese el número de la opción deseada: 5\n",
            "3 - Detergente - Ro - 200 - 4500.0\n",
            "Cantidad total de productos: 1\n",
            "Valor total del inventario: 900000.0\n",
            "**Opciones del menú:**\n",
            "1. Agregar producto\n",
            "2. Eliminar producto\n",
            "3. Actualizar producto\n",
            "4. Buscar producto\n",
            "5. Listar productos\n",
            "6. Salir\n",
            "Ingrese el número de la opción deseada: 4\n",
            "Ingrese el ID del producto a buscar: 34\n",
            "Producto no encontrado\n",
            "**Opciones del menú:**\n",
            "1. Agregar producto\n",
            "2. Eliminar producto\n",
            "3. Actualizar producto\n",
            "4. Buscar producto\n",
            "5. Listar productos\n",
            "6. Salir\n",
            "Ingrese el número de la opción deseada: 6\n",
            "Saliendo del sistema...\n"
          ]
        }
      ]
    },
    {
      "cell_type": "markdown",
      "source": [
        "###Requerimiento 4:\n",
        "Asegúrese de que el sistema maneje adecuadamente errores y excepciones, como entradas inválidas del usuario o intentos de actualizar o eliminar productos que no existen en el inventario.\n",
        "\n"
      ],
      "metadata": {
        "id": "AmsS8zTbqwR8"
      }
    },
    {
      "cell_type": "markdown",
      "source": [
        "###Respuesta a requerimiento 4:\n",
        "Implemetado en apartados correspondientes"
      ],
      "metadata": {
        "id": "AoSjSDPQit6X"
      }
    },
    {
      "cell_type": "markdown",
      "source": [
        "###Requerimiento 5:\n",
        "Documente el código utilizando comentarios y docstrings apropiados para facilitar la comprensión y el mantenimiento del software."
      ],
      "metadata": {
        "id": "fZGfMtGqqznK"
      }
    },
    {
      "cell_type": "markdown",
      "source": [
        "###Respuesta a requerimiento 5:\n",
        "Implemetado en cada sección de código"
      ],
      "metadata": {
        "id": "9uB8OfXojFTv"
      }
    },
    {
      "cell_type": "markdown",
      "source": [
        "###Requerimiento 6:\n",
        "Gestione el código a través de GutHub.-\n",
        "\n"
      ],
      "metadata": {
        "id": "o03WLsCzq16E"
      }
    },
    {
      "cell_type": "code",
      "source": [],
      "metadata": {
        "id": "tIk9p5ulyDdI"
      },
      "execution_count": 3,
      "outputs": []
    }
  ]
}